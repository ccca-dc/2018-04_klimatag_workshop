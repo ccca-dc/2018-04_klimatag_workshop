{
 "cells": [
  {
   "cell_type": "markdown",
   "metadata": {},
   "source": [
    "# CCCA Data Centre CKAN API\n",
    "## Workshop Notebook 2"
   ]
  },
  {
   "cell_type": "markdown",
   "metadata": {},
   "source": [
    "### Original notebook from:\n",
    "\n",
    "Georg Seyerl (georg.seyerl@ccca.ac.at)\n",
    "\n",
    "### Further Information:\n",
    "\n",
    "[**CKAN API Reference**](http://docs.ckan.org/en/ckan-2.7.3/api/index.html#action-api-reference)\n",
    "\n",
    "[**ckanapi Python Modul**](https://github.com/ckan/ckanapi)"
   ]
  },
  {
   "cell_type": "markdown",
   "metadata": {},
   "source": [
    "================"
   ]
  },
  {
   "cell_type": "markdown",
   "metadata": {},
   "source": [
    "## Connection to Server"
   ]
  },
  {
   "cell_type": "code",
   "execution_count": 1,
   "metadata": {},
   "outputs": [],
   "source": [
    "from ckanapi import RemoteCKAN\n",
    "from pprint import pprint"
   ]
  },
  {
   "cell_type": "code",
   "execution_count": 2,
   "metadata": {},
   "outputs": [],
   "source": [
    "data_ccca = RemoteCKAN('https://data.ccca.ac.at', apikey='54cc28ea-5391-4e87-8ebf-d1b231e5b52b')"
   ]
  },
  {
   "cell_type": "markdown",
   "metadata": {},
   "source": [
    "## Packages"
   ]
  },
  {
   "cell_type": "markdown",
   "metadata": {},
   "source": [
    "List packages, but only latest versions"
   ]
  },
  {
   "cell_type": "code",
   "execution_count": 3,
   "metadata": {},
   "outputs": [],
   "source": [
    "ls_pkg_latest = data_ccca.call_action('package_list', {})"
   ]
  },
  {
   "cell_type": "code",
   "execution_count": 4,
   "metadata": {},
   "outputs": [
    {
     "name": "stdout",
     "output_type": "stream",
     "text": [
      "['oks15_precipitation_climate_indices_sdii_1961_2010_annual',\n",
      " 'climamap_beachdays_cnrm-cerfacs-cnrm-cm5_rcp45_r1i1p1_clmcom-cclm4-8-17_1981_2100_monthly',\n",
      " 'oks15_bias_corrected_temperature_tn_ichec-ec-earth_rcp85_r12i1p1_smhi-rca4',\n",
      " 'lithological_classification_for_inspire_extended_values_0_register_content_conformance_class_gb',\n",
      " 'oks15_climate_change_signal_of_temperature_indices_ftc-rcp45-nearfuture-oct-nov',\n",
      " 'automatische_wetterstation_aws_hochebenkar_4_2011_schneedecke',\n",
      " 'oks15_temperature_climate_indices_fd0_0401_0410_1961_2011_annual',\n",
      " 'starc-impact-bc-euro-cordex-model_tas_sdm_mohc-hadgem2-es_rcp26_r1i1p1_smhi-rca4_all',\n",
      " 'factsheet_good_practice',\n",
      " 'oks15_climate_change_signal_of_precipiation_indices_rr-rcp45-nearfuture-jja']\n"
     ]
    }
   ],
   "source": [
    "pprint(ls_pkg_latest[:10])"
   ]
  },
  {
   "cell_type": "markdown",
   "metadata": {},
   "source": [
    "List packages, including all versions"
   ]
  },
  {
   "cell_type": "code",
   "execution_count": 5,
   "metadata": {},
   "outputs": [],
   "source": [
    "ls_pkg_all = data_ccca.call_action('package_list', {'include_versions':True})"
   ]
  },
  {
   "cell_type": "code",
   "execution_count": 6,
   "metadata": {},
   "outputs": [
    {
     "name": "stdout",
     "output_type": "stream",
     "text": [
      "['3pclim-data-complete-v01',\n",
      " '3pclim_entwicklung_temperatur_niederschlag_jahresreihen-v01',\n",
      " '3pclim_entwicklung_temperatur_niederschlag_monatsreihen-v01',\n",
      " '3pclim_entwicklung_temperatur_niederschlag_saisonale_reihen-v01',\n",
      " '3pclim_entwicklung_temperatur_niederschlag-v01',\n",
      " '3pclim_gletscher-v01',\n",
      " '3pclim_konvektion_dauer_distanz-v01',\n",
      " '3pclim_konvektion_entstehung_zerfall-v01',\n",
      " '3pclim_konvektion_gewittertage-v01',\n",
      " '3pclim_konvektion_nr_zellen_pro_monat-v01']\n"
     ]
    }
   ],
   "source": [
    "pprint(ls_pkg_all[:10])"
   ]
  },
  {
   "cell_type": "markdown",
   "metadata": {},
   "source": [
    "Metadata for one package (first in list)"
   ]
  },
  {
   "cell_type": "code",
   "execution_count": 7,
   "metadata": {},
   "outputs": [],
   "source": [
    "d_pkg = data_ccca.call_action('package_show', {'id': ls_pkg_latest[0]})"
   ]
  },
  {
   "cell_type": "code",
   "execution_count": 8,
   "metadata": {},
   "outputs": [
    {
     "name": "stdout",
     "output_type": "stream",
     "text": [
      "dict_keys(['license_title', 'maintainer', 'spatial_name', 'issued', 'use_limitation', 'private', 'maintainer_email', 'num_tags', 'specifics', 'frequency', 'modified', 'isopen', 'id', 'metadata_created', 'citation_info', 'temporal_end', 'dimensions', 'metadata_modified', 'author', 'author_email', 'controlled_tags', 'specification', 'provenance', 'equiv_scale', 'relations', 'state', 'version', 'spatial', 'creator_user_id', 'conformance', 'variables', 'resources', 'num_resources', 'author_department', 'resource_status', 'groups', 'license_id', 'temporal_start', 'tags', 'scale_dist', 'organization', 'name', 'language', 'created', 'url', 'type', 'notes', 'owner_org', 'uri', 'license_url', 'title', 'revision_id', 'maintainer_department'])\n"
     ]
    }
   ],
   "source": [
    "pprint(d_pkg.keys())"
   ]
  },
  {
   "cell_type": "markdown",
   "metadata": {},
   "source": [
    "## Resources"
   ]
  },
  {
   "cell_type": "markdown",
   "metadata": {},
   "source": [
    "Resources in package (dataset)"
   ]
  },
  {
   "cell_type": "code",
   "execution_count": 9,
   "metadata": {},
   "outputs": [],
   "source": [
    "ls_res = d_pkg['resources']"
   ]
  },
  {
   "cell_type": "code",
   "execution_count": 10,
   "metadata": {},
   "outputs": [
    {
     "name": "stdout",
     "output_type": "stream",
     "text": [
      "[{'access_rights': 'copyright',\n",
      "  'cache_last_updated': None,\n",
      "  'cache_url': None,\n",
      "  'created': '2016-09-05T15:22:40.100183',\n",
      "  'datastore_active': False,\n",
      "  'description': 'annual simple daily precipitation intensity',\n",
      "  'format': 'NetCDF',\n",
      "  'hash': 'b48988c2a5097b220339d4c429a7e07b',\n",
      "  'id': 'ff9aa026-4e34-4b6f-a81e-af0db1f6c2a8',\n",
      "  'last_modified': '2016-09-05T13:22:40.012796',\n",
      "  'mimetype': None,\n",
      "  'mimetype_inner': None,\n",
      "  'name': 'annual simple daily precipitation intensity',\n",
      "  'package_id': 'dd7d2d6b-0dff-424d-9337-9f2b52f7c4f7',\n",
      "  'position': 0,\n",
      "  'resource_type': None,\n",
      "  'revision_id': '7c8938a7-f809-4303-a1a0-21c5d7b0e52d',\n",
      "  'size': '41125589',\n",
      "  'state': 'active',\n",
      "  'url': 'https://data.ccca.ac.at/dataset/dd7d2d6b-0dff-424d-9337-9f2b52f7c4f7/resource/ff9aa026-4e34-4b6f-a81e-af0db1f6c2a8/download/sdii19612010annual.nc',\n",
      "  'url_type': 'upload',\n",
      "  'webstore_last_updated': None,\n",
      "  'webstore_url': None}]\n"
     ]
    }
   ],
   "source": [
    "pprint(ls_res)"
   ]
  },
  {
   "cell_type": "markdown",
   "metadata": {},
   "source": [
    "## Search for packages/dataset\n",
    "[**package_search API Reference**](http://docs.ckan.org/en/ckan-2.7.3/api/index.html#ckan.logic.action.get.package_search)\n",
    "\n",
    "[**CCCA Data Centre search**](https://data.ccca.ac.at/dataset?groups=bias-corrected&extras_specifics_Variables=Precipitation+%28rr%29&groups=rcp85)"
   ]
  },
  {
   "cell_type": "markdown",
   "metadata": {},
   "source": [
    "Search for datasets with specific search parameters."
   ]
  },
  {
   "cell_type": "code",
   "execution_count": 11,
   "metadata": {},
   "outputs": [],
   "source": [
    "ls_pkg_search = data_ccca.call_action(\n",
    "    'package_search', \n",
    "    {'fq':\"groups:bias-corrected AND extras_specifics_Variables:Precipitation?\\(rr\\) AND groups:rcp85\"} )"
   ]
  },
  {
   "cell_type": "code",
   "execution_count": 12,
   "metadata": {},
   "outputs": [
    {
     "name": "stdout",
     "output_type": "stream",
     "text": [
      "dict_keys(['count', 'sort', 'facets', 'results', 'search_facets'])\n"
     ]
    }
   ],
   "source": [
    "pprint(ls_pkg_search.keys())"
   ]
  },
  {
   "cell_type": "markdown",
   "metadata": {},
   "source": [
    "Extract metadata (url) from resources in datasets where the lowercased name contains the string \"dap\""
   ]
  },
  {
   "cell_type": "code",
   "execution_count": 13,
   "metadata": {},
   "outputs": [
    {
     "data": {
      "text/plain": [
       "['https://data.ccca.ac.at/thredds/dodsC/ckan/bfd/43f/ca-623a-4e21-8c86-cb7db090e97d.html',\n",
       " 'https://data.ccca.ac.at/thredds/dodsC/ckan/0b1/9be/a1-15da-4f52-abbf-ab457358f03b.html',\n",
       " 'https://data.ccca.ac.at/thredds/dodsC/ckan/360/2fc/87-2bf5-44c5-952f-0ab9bbcf290d.html',\n",
       " 'https://data.ccca.ac.at/thredds/dodsC/ckan/f67/48f/11-f7b0-476b-b084-e2f789544815.html',\n",
       " 'https://data.ccca.ac.at/thredds/dodsC/ckan/6d7/713/d4-7fb5-41de-97b5-e24ca4cbc4fe.html',\n",
       " 'https://data.ccca.ac.at/thredds/dodsC/ckan/264/178/50-6d6e-40af-b682-3d3495a83bcb.html',\n",
       " 'https://data.ccca.ac.at/thredds/dodsC/ckan/91c/c78/41-51be-4386-af21-6e75c4bb5b39.html',\n",
       " 'https://data.ccca.ac.at/thredds/dodsC/ckan/1c3/081/4d-4f13-4464-8a99-f032fd7383e7.html',\n",
       " 'https://data.ccca.ac.at/thredds/dodsC/ckan/811/312/f5-2006-471e-8220-53a75876ecdd.html',\n",
       " 'https://data.ccca.ac.at/thredds/dodsC/ckan/780/f06/64-209f-442e-a38f-acf073e0c5e9.html']"
      ]
     },
     "execution_count": 13,
     "metadata": {},
     "output_type": "execute_result"
    }
   ],
   "source": [
    "[[res['url'] for res in pkg['resources'] if \"dap\" in res['name'].lower()][0]\n",
    "    for pkg in ls_pkg_search['results']\n",
    "]"
   ]
  }
 ],
 "metadata": {
  "kernelspec": {
   "display_name": "Python 3",
   "language": "python",
   "name": "python3"
  },
  "language_info": {
   "codemirror_mode": {
    "name": "ipython",
    "version": 3
   },
   "file_extension": ".py",
   "mimetype": "text/x-python",
   "name": "python",
   "nbconvert_exporter": "python",
   "pygments_lexer": "ipython3",
   "version": "3.6.5"
  }
 },
 "nbformat": 4,
 "nbformat_minor": 2
}
