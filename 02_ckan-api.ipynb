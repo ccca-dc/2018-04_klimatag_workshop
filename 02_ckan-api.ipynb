{
 "cells": [
  {
   "cell_type": "markdown",
   "metadata": {},
   "source": [
    "# CCCA Data Centre CKAN API\n",
    "## Workshop Notebook 2"
   ]
  },
  {
   "cell_type": "markdown",
   "metadata": {},
   "source": [
    "### Original notebook from:\n",
    "\n",
    "Georg Seyerl (georg.seyerl@ccca.ac.at)\n",
    "\n",
    "### Further Information:\n",
    "\n",
    "[**CKAN API Reference**](http://docs.ckan.org/en/ckan-2.7.3/api/index.html#action-api-reference)\n",
    "\n",
    "[**ckanapi Python Modul**](https://github.com/ckan/ckanapi)"
   ]
  },
  {
   "cell_type": "markdown",
   "metadata": {},
   "source": [
    "================"
   ]
  },
  {
   "cell_type": "markdown",
   "metadata": {},
   "source": [
    "## Connection to Server"
   ]
  },
  {
   "cell_type": "code",
   "execution_count": 1,
   "metadata": {},
   "outputs": [],
   "source": [
    "from ckanapi import RemoteCKAN\n",
    "from pprint import pprint"
   ]
  },
  {
   "cell_type": "code",
   "execution_count": 2,
   "metadata": {},
   "outputs": [],
   "source": [
    "data_ccca = RemoteCKAN('https://data.ccca.ac.at', apikey='54cc28ea-5391-4e87-8ebf-d1b231e5b52b')"
   ]
  },
  {
   "cell_type": "markdown",
   "metadata": {},
   "source": [
    "## Packages"
   ]
  },
  {
   "cell_type": "markdown",
   "metadata": {},
   "source": [
    "List packages, but only latest versions"
   ]
  },
  {
   "cell_type": "code",
   "execution_count": 3,
   "metadata": {},
   "outputs": [],
   "source": [
    "ls_pkg_latest = data_ccca.call_action('package_list', {})"
   ]
  },
  {
   "cell_type": "code",
   "execution_count": 4,
   "metadata": {},
   "outputs": [
    {
     "name": "stdout",
     "output_type": "stream",
     "text": [
      "['oks15_climate_change_signal_of_temperature_indices_cw-sum-days-rcp85-farfuture-jja',\n",
      " 'oks15_climate_change_signal_of_temperature_indices_tm-rcp85-nearfuture-son',\n",
      " 'oks15_precipitation_climate_indices_sdii_1961_2010_annual',\n",
      " 'oks15_climate_change_signal_of_precipiation_indices_rx5day-rcp85-farfuture-jja',\n",
      " 'oks15_30y-mean_global_radiation_indices_rsds_1981_2010_annual_meanrsds_1981_2010_annual_mean',\n",
      " 'oks15_climate_change_signal_of_temperature_indices_cw-sum-days-rcp85-farfuture-annual',\n",
      " 'beratungsbericht-factsheet-land-salzburg',\n",
      " 'oks15_temperature_climate_indices_hdd_october_april_1961_2011_annual',\n",
      " 'oks15_climate_change_signal_of_precipiation_indices_rr1-moderate-rcp85-farfuture-annual',\n",
      " 'oks15_climate_change_signal_of_temperature_indices_id7-rcp45-nearfuture-djf']\n"
     ]
    }
   ],
   "source": [
    "pprint(ls_pkg_latest[:10])"
   ]
  },
  {
   "cell_type": "markdown",
   "metadata": {},
   "source": [
    "List packages, including all versions"
   ]
  },
  {
   "cell_type": "code",
   "execution_count": 5,
   "metadata": {},
   "outputs": [],
   "source": [
    "ls_pkg_all = data_ccca.call_action('package_list', {'include_versions':True})"
   ]
  },
  {
   "cell_type": "code",
   "execution_count": 6,
   "metadata": {},
   "outputs": [
    {
     "name": "stdout",
     "output_type": "stream",
     "text": [
      "['3pclim-data-complete-v01',\n",
      " '3pclim_entwicklung_temperatur_niederschlag_jahresreihen-v01',\n",
      " '3pclim_entwicklung_temperatur_niederschlag_monatsreihen-v01',\n",
      " '3pclim_entwicklung_temperatur_niederschlag_saisonale_reihen-v01',\n",
      " '3pclim_entwicklung_temperatur_niederschlag-v01',\n",
      " '3pclim_gletscher-v01',\n",
      " '3pclim_konvektion_dauer_distanz-v01',\n",
      " '3pclim_konvektion_entstehung_zerfall-v01',\n",
      " '3pclim_konvektion_gewittertage-v01',\n",
      " '3pclim_konvektion_nr_zellen_pro_monat-v01']\n"
     ]
    }
   ],
   "source": [
    "pprint(ls_pkg_all[:10])"
   ]
  },
  {
   "cell_type": "markdown",
   "metadata": {},
   "source": [
    "Metadata for one package (first in list)"
   ]
  },
  {
   "cell_type": "code",
   "execution_count": 7,
   "metadata": {},
   "outputs": [],
   "source": [
    "d_pkg = data_ccca.call_action('package_show', {'id': ls_pkg_latest[0]})"
   ]
  },
  {
   "cell_type": "code",
   "execution_count": 8,
   "metadata": {},
   "outputs": [
    {
     "name": "stdout",
     "output_type": "stream",
     "text": [
      "dict_keys(['license_title', 'maintainer', 'spatial_name', 'issued', 'use_limitation', 'private', 'maintainer_email', 'num_tags', 'specifics', 'frequency', 'modified', 'isopen', 'id', 'metadata_created', 'temporal_end', 'dimensions', 'metadata_modified', 'author', 'author_email', 'controlled_tags', 'specification', 'provenance', 'equiv_scale', 'relations', 'state', 'version', 'spatial', 'creator_user_id', 'conformance', 'variables', 'resources', 'num_resources', 'tags', 'resource_status', 'groups', 'license_id', 'temporal_start', 'scale_dist', 'organization', 'name', 'language', 'created', 'url', 'type', 'notes', 'owner_org', 'uri', 'license_url', 'title', 'revision_id'])\n"
     ]
    }
   ],
   "source": [
    "pprint(d_pkg.keys())"
   ]
  },
  {
   "cell_type": "markdown",
   "metadata": {},
   "source": [
    "## Resources"
   ]
  },
  {
   "cell_type": "markdown",
   "metadata": {},
   "source": [
    "Resources in package (dataset)"
   ]
  },
  {
   "cell_type": "code",
   "execution_count": 9,
   "metadata": {},
   "outputs": [],
   "source": [
    "ls_res = d_pkg['resources']"
   ]
  },
  {
   "cell_type": "code",
   "execution_count": 10,
   "metadata": {},
   "outputs": [
    {
     "name": "stdout",
     "output_type": "stream",
     "text": [
      "[{'access_rights': 'copyright',\n",
      "  'cache_last_updated': None,\n",
      "  'cache_url': None,\n",
      "  'created': '2016-12-29T14:44:22.868146',\n",
      "  'datastore_active': False,\n",
      "  'description': '### Climate change signal of cold wave (sum of all days '\n",
      "                 'during cold waves that last at least 4 days: Tmax < 0 '\n",
      "                 'Celcius)\\n'\n",
      "                 '\\n'\n",
      "                 'Absolute climate change signal 2071-2100 -- 1971-2000\\n'\n",
      "                 'of cold wave (sum of all days during cold waves that last at '\n",
      "                 'least 4 days: Tmax < 0 Celcius) under the RCP85 scenario\\n'\n",
      "                 '\\n'\n",
      "                 'Trust-values:\\n'\n",
      "                 ' 0.0 - significant changes but no model agreement\\n'\n",
      "                 ' 0.5 - no significant change\\n'\n",
      "                 ' 1.0 - significant changes and high model agreement\\n',\n",
      "  'format': 'NetCDF',\n",
      "  'hash': '3d3fd3b5ae5d55fe6fa55be4dc087400',\n",
      "  'id': '18646b00-91ff-40bf-8d9b-2f5c2dd576f4',\n",
      "  'last_modified': '2016-12-29T13:44:22.642528',\n",
      "  'mimetype': None,\n",
      "  'mimetype_inner': None,\n",
      "  'name': 'Climate change signal of cold wave',\n",
      "  'package_id': '4609c014-1a65-49a1-b440-f1336613baf4',\n",
      "  'position': 0,\n",
      "  'resource_type': None,\n",
      "  'revision_id': '11cf357c-eda8-4559-b1f4-fa23d62215bb',\n",
      "  'size': '3133272',\n",
      "  'state': 'active',\n",
      "  'url': 'https://data.ccca.ac.at/dataset/4609c014-1a65-49a1-b440-f1336613baf4/resource/18646b00-91ff-40bf-8d9b-2f5c2dd576f4/download/cw-sum-daysrcp85abs-ccs2071-2100--1971-2000jja.nc',\n",
      "  'url_type': 'upload',\n",
      "  'webstore_last_updated': None,\n",
      "  'webstore_url': None}]\n"
     ]
    }
   ],
   "source": [
    "pprint(ls_res)"
   ]
  },
  {
   "cell_type": "markdown",
   "metadata": {},
   "source": [
    "## Search for packages/dataset\n",
    "[**package_search API Reference**](http://docs.ckan.org/en/ckan-2.7.3/api/index.html#ckan.logic.action.get.package_search)\n",
    "\n",
    "[**CCCA Data Centre search**](https://data.ccca.ac.at/dataset?groups=bias-corrected&extras_specifics_Variables=Precipitation+%28rr%29&groups=rcp85)"
   ]
  },
  {
   "cell_type": "markdown",
   "metadata": {},
   "source": [
    "Search for datasets with specific search parameters."
   ]
  },
  {
   "cell_type": "code",
   "execution_count": 11,
   "metadata": {},
   "outputs": [],
   "source": [
    "ls_pkg_search = data_ccca.call_action(\n",
    "    'package_search', \n",
    "    {'fq':\"groups:bias-corrected AND extras_specifics_Variables:Precipitation?\\(rr\\) AND groups:rcp85\"} )"
   ]
  },
  {
   "cell_type": "code",
   "execution_count": 12,
   "metadata": {},
   "outputs": [
    {
     "name": "stdout",
     "output_type": "stream",
     "text": [
      "dict_keys(['count', 'sort', 'facets', 'results', 'search_facets'])\n"
     ]
    }
   ],
   "source": [
    "pprint(ls_pkg_search.keys())"
   ]
  },
  {
   "cell_type": "markdown",
   "metadata": {},
   "source": [
    "Extract metadata (url) from resources in datasets where the lowercased name contains the string \"dap\""
   ]
  },
  {
   "cell_type": "code",
   "execution_count": 13,
   "metadata": {},
   "outputs": [
    {
     "data": {
      "text/plain": [
       "['https://data.ccca.ac.at/thredds/dodsC/ckan/b18/992/94-9d3a-4c5c-8afb-259120d9b0b2',\n",
       " 'https://data.ccca.ac.at/thredds/dodsC/ckan/103/c6f/4d-2ec9-4e79-9555-63d52314a247',\n",
       " 'https://data.ccca.ac.at/thredds/dodsC/ckan/089/a87/b5-8164-47db-922a-0a784c727c72',\n",
       " 'https://data.ccca.ac.at/thredds/dodsC/ckan/780/f06/64-209f-442e-a38f-acf073e0c5e9',\n",
       " 'https://data.ccca.ac.at/thredds/dodsC/ckan/811/312/f5-2006-471e-8220-53a75876ecdd',\n",
       " 'https://data.ccca.ac.at/thredds/dodsC/ckan/1c3/081/4d-4f13-4464-8a99-f032fd7383e7',\n",
       " 'https://data.ccca.ac.at/thredds/dodsC/ckan/91c/c78/41-51be-4386-af21-6e75c4bb5b39',\n",
       " 'https://data.ccca.ac.at/thredds/dodsC/ckan/264/178/50-6d6e-40af-b682-3d3495a83bcb',\n",
       " 'https://data.ccca.ac.at/thredds/dodsC/ckan/6d7/713/d4-7fb5-41de-97b5-e24ca4cbc4fe',\n",
       " 'https://data.ccca.ac.at/thredds/dodsC/ckan/f67/48f/11-f7b0-476b-b084-e2f789544815']"
      ]
     },
     "execution_count": 13,
     "metadata": {},
     "output_type": "execute_result"
    }
   ],
   "source": [
    "[[res['url'] for res in pkg['resources'] if \"dap\" in res['name'].lower()][0]\n",
    "    for pkg in ls_pkg_search['results']\n",
    "]"
   ]
  }
 ],
 "metadata": {
  "kernelspec": {
   "display_name": "Python 3",
   "language": "python",
   "name": "python3"
  },
  "language_info": {
   "codemirror_mode": {
    "name": "ipython",
    "version": 3
   },
   "file_extension": ".py",
   "mimetype": "text/x-python",
   "name": "python",
   "nbconvert_exporter": "python",
   "pygments_lexer": "ipython3",
   "version": "3.6.1"
  }
 },
 "nbformat": 4,
 "nbformat_minor": 2
}
