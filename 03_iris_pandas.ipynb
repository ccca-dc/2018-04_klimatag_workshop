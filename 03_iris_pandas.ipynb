{
 "cells": [
  {
   "cell_type": "markdown",
   "metadata": {},
   "source": [
    "# CCCA Data Centre Iris and Pandas with OpenDAP\n",
    "## Workshop Notebook 3"
   ]
  },
  {
   "cell_type": "markdown",
   "metadata": {},
   "source": [
    "### Original notebook from:\n",
    "\n",
    "Georg Seyerl (georg.seyerl@ccca.ac.at)\n",
    "\n",
    "### Further Information:\n",
    "\n",
    "[**Iris Documentation**](http://scitools.org.uk/iris/docs/latest/index.html)\n",
    "\n",
    "[**Pandas Documentation**](https://pandas.pydata.org/pandas-docs/stable/index.html)\n",
    "\n",
    "[**Numpy/Scipy Documentation**](https://docs.scipy.org/doc/)"
   ]
  },
  {
   "cell_type": "markdown",
   "metadata": {},
   "source": [
    "================"
   ]
  },
  {
   "cell_type": "markdown",
   "metadata": {},
   "source": [
    "### Iris: Python Modul for processing of multidimesional data\n",
    "### Pandas:  Python for Modul for the analysation of time series data\n",
    "### OpenDap: Interface for data access  and extraction (provided for CCCA NetCDF resoruces)"
   ]
  },
  {
   "cell_type": "code",
   "execution_count": 1,
   "metadata": {},
   "outputs": [
    {
     "ename": "ImportError",
     "evalue": "No module named iris",
     "output_type": "error",
     "traceback": [
      "\u001b[0;31m---------------------------------------------------------------------------\u001b[0m",
      "\u001b[0;31mImportError\u001b[0m                               Traceback (most recent call last)",
      "\u001b[0;32m<ipython-input-1-875798dd11c6>\u001b[0m in \u001b[0;36m<module>\u001b[0;34m()\u001b[0m\n\u001b[0;32m----> 1\u001b[0;31m \u001b[0;32mimport\u001b[0m \u001b[0miris\u001b[0m\u001b[0;34m\u001b[0m\u001b[0m\n\u001b[0m\u001b[1;32m      2\u001b[0m \u001b[0;32mimport\u001b[0m \u001b[0miris\u001b[0m\u001b[0;34m.\u001b[0m\u001b[0mcoord_categorisation\u001b[0m\u001b[0;34m\u001b[0m\u001b[0m\n\u001b[1;32m      3\u001b[0m \u001b[0;32mimport\u001b[0m \u001b[0miris\u001b[0m\u001b[0;34m.\u001b[0m\u001b[0mquickplot\u001b[0m \u001b[0;32mas\u001b[0m \u001b[0mqp\u001b[0m\u001b[0;34m\u001b[0m\u001b[0m\n\u001b[1;32m      4\u001b[0m \u001b[0;32mimport\u001b[0m \u001b[0miris\u001b[0m\u001b[0;34m.\u001b[0m\u001b[0mpandas\u001b[0m\u001b[0;34m\u001b[0m\u001b[0m\n\u001b[1;32m      5\u001b[0m \u001b[0;32mfrom\u001b[0m \u001b[0miris\u001b[0m\u001b[0;34m.\u001b[0m\u001b[0mexperimental\u001b[0m\u001b[0;34m.\u001b[0m\u001b[0mequalise_cubes\u001b[0m \u001b[0;32mimport\u001b[0m \u001b[0mequalise_attributes\u001b[0m\u001b[0;34m\u001b[0m\u001b[0m\n",
      "\u001b[0;31mImportError\u001b[0m: No module named iris"
     ]
    }
   ],
   "source": [
    "import iris\n",
    "import iris.coord_categorisation\n",
    "import iris.quickplot as qp\n",
    "import iris.pandas\n",
    "from iris.experimental.equalise_cubes import equalise_attributes\n",
    "\n",
    "from pprint import pprint\n",
    "import numpy as np     #python numerical modul - array operations\n",
    "import pandas as pd\n",
    "import cf_units \n",
    "import matplotlib.pyplot as plt\n",
    "from datetime import datetime\n",
    "from ckanapi import RemoteCKAN"
   ]
  },
  {
   "cell_type": "markdown",
   "metadata": {},
   "source": [
    "# Load Metadata from Server"
   ]
  },
  {
   "cell_type": "markdown",
   "metadata": {},
   "source": [
    "Create a RemoteCKAN object from the module ckanapi. The apikey identifies the user."
   ]
  },
  {
   "cell_type": "code",
   "execution_count": 2,
   "metadata": {},
   "outputs": [],
   "source": [
    "data_ccca = RemoteCKAN('https://data.ccca.ac.at', apikey='54cc28ea-5391-4e87-8ebf-d1b231e5b52b')"
   ]
  },
  {
   "cell_type": "markdown",
   "metadata": {},
   "source": [
    "Search for packages in groups bias-corrected and rcp45, but only for the variables Air Temperature (mean)."
   ]
  },
  {
   "cell_type": "code",
   "execution_count": 3,
   "metadata": {},
   "outputs": [],
   "source": [
    "pkg_list_oks15_tas = data_ccca.call_action(\n",
    "    'package_search', \n",
    "    {'fq':\"groups:bias-corrected AND groups:rcp45 AND extras_specifics_Variables:Air?Temperature?\\(mean\\)\", \n",
    "     'rows':1000}\n",
    ")"
   ]
  },
  {
   "cell_type": "code",
   "execution_count": 4,
   "metadata": {},
   "outputs": [
    {
     "name": "stdout",
     "output_type": "stream",
     "text": [
      "dict_keys(['count', 'sort', 'facets', 'results', 'search_facets'])\n"
     ]
    }
   ],
   "source": [
    "pprint(pkg_list_oks15_tas.keys())"
   ]
  },
  {
   "cell_type": "markdown",
   "metadata": {},
   "source": [
    "Create list with OpenDAP urls (strings) for the resulting packages from the search above."
   ]
  },
  {
   "cell_type": "code",
   "execution_count": 5,
   "metadata": {},
   "outputs": [
    {
     "name": "stdout",
     "output_type": "stream",
     "text": [
      "['https://data.ccca.ac.at/thredds/dodsC/ckan/1db/a52/b2-4fd0-4fa1-a3ac-cfb0b94a7670',\n",
      " 'https://data.ccca.ac.at/thredds/dodsC/ckan/5fc/295/bd-509c-427d-8713-ec3597d5a9d7',\n",
      " 'https://data.ccca.ac.at/thredds/dodsC/ckan/47a/051/c1-ddbd-462c-acde-8befb58817fe',\n",
      " 'https://data.ccca.ac.at/thredds/dodsC/ckan/ff8/4e6/15-b4cc-4797-a2b0-46a2a3d34492',\n",
      " 'https://data.ccca.ac.at/thredds/dodsC/ckan/f2c/d5e/8a-87ef-4f12-a07a-601403835b54',\n",
      " 'https://data.ccca.ac.at/thredds/dodsC/ckan/1e9/aec/87-0022-4b7a-bd67-f4c2667fd2d7',\n",
      " 'https://data.ccca.ac.at/thredds/dodsC/ckan/923/a51/bb-2162-4d68-b2bb-b0acd02c54ab',\n",
      " 'https://data.ccca.ac.at/thredds/dodsC/ckan/815/723/70-ee31-47c0-8215-83f293718f8c',\n",
      " 'https://data.ccca.ac.at/thredds/dodsC/ckan/5c9/c8c/12-29e0-4dfa-ba8b-0d1b3dd4ef03',\n",
      " 'https://data.ccca.ac.at/thredds/dodsC/ckan/49d/dac/f8-d1c6-4e3a-8faa-94a021583ea5',\n",
      " 'https://data.ccca.ac.at/thredds/dodsC/ckan/293/ead/0f-f885-440d-ae76-efcb0d32bde0',\n",
      " 'https://data.ccca.ac.at/thredds/dodsC/ckan/d1c/37f/cf-1032-4648-b1e0-fbaf09b9b6b5',\n",
      " 'https://data.ccca.ac.at/thredds/dodsC/ckan/a7f/241/93-3992-4819-ab70-99219855a0fd']\n"
     ]
    }
   ],
   "source": [
    "ls_res_url = [\n",
    "    [res['url'] for res in pkg['resources'] if \"dap\" in res['name'].lower()][0] \n",
    "    for pkg in pkg_list_oks15_tas['results']\n",
    "]\n",
    "pprint(ls_res_url)"
   ]
  },
  {
   "cell_type": "markdown",
   "metadata": {},
   "source": [
    "Create list with ensemble member names for the resulting packages from the search above."
   ]
  },
  {
   "cell_type": "code",
   "execution_count": null,
   "metadata": {},
   "outputs": [],
   "source": [
    "for pkg in pkg_list_oks15_tas['results']:\n",
    "    print pkg['name']"
   ]
  },
  {
   "cell_type": "markdown",
   "metadata": {},
   "source": [
    "Extract ensemble name from package name:"
   ]
  },
  {
   "cell_type": "code",
   "execution_count": 6,
   "metadata": {},
   "outputs": [],
   "source": [
    "ls_realization_name = [pkg['name'].split('_',5)[-1].rsplit('-',1)[0] for pkg in pkg_list_oks15_tas['results']]"
   ]
  },
  {
   "cell_type": "markdown",
   "metadata": {},
   "source": [
    "# Load data as iris cubes (CubeList)"
   ]
  },
  {
   "cell_type": "markdown",
   "metadata": {},
   "source": [
    "Define a function to add a scalar dimension realization when we load the datasets.\n",
    "((A realization is a collection of models (altogether called the \"ensemble\") for a specifc point of interest . ie. period in time or spatial extend for example. Hence the 'realization' enables the user to compare the result of different models.))"
   ]
  },
  {
   "cell_type": "code",
   "execution_count": 7,
   "metadata": {},
   "outputs": [],
   "source": [
    "realization = 0"
   ]
  },
  {
   "cell_type": "code",
   "execution_count": 8,
   "metadata": {},
   "outputs": [],
   "source": [
    "def lagged_ensemble_callback(cube, field, filename):\n",
    "    # Add our own realization coordinate if it doesn't already exist.\n",
    "    if not cube.coords('realization'):\n",
    "        global realization \n",
    "        realization += 1\n",
    "        ensemble_coord = iris.coords.AuxCoord(realization, standard_name='realization')\n",
    "        cube.add_aux_coord(ensemble_coord)"
   ]
  },
  {
   "cell_type": "markdown",
   "metadata": {},
   "source": [
    "### Load the data with iris over OpenDAP from the CCCA Data Server:\n",
    "- Constraint on time (use 30 year time span)\n",
    "- Constraint on space (use 5x5 field)\n",
    "- Add realization number with iris callback method"
   ]
  },
  {
   "cell_type": "code",
   "execution_count": 35,
   "metadata": {},
   "outputs": [],
   "source": [
    "#ls_oks15_test = iris.load([url for url in ls_res_url], \n",
    "#                       iris.Constraint(time=lambda cell: datetime(2020,1,1,0) <= cell.point <= datetime(2049,12,31,23),\n",
    "#                                       projection_y_coordinate = lambda cell: 395500 <= cell < 400500,\n",
    "#                                       projection_x_coordinate = lambda cell: 361500 <= cell < 366500),\n",
    "#                       callback=lagged_ensemble_callback)\n",
    "ls_oks15_test = iris.load('data/*.nc')"
   ]
  },
  {
   "cell_type": "markdown",
   "metadata": {},
   "source": [
    "###   DATA Parallelization\n",
    "The data is lazy (not in memory).\n",
    "\n",
    "Due to the usage of Iris cubes we have excellent parallel processing possiblities. The data are kept on disk and are thus easy to  parallelize. Hence be aware to use Iris 2.0, XArray (both using 'dask') when working with large data files!"
   ]
  },
  {
   "cell_type": "code",
   "execution_count": 36,
   "metadata": {},
   "outputs": [
    {
     "data": {
      "text/plain": [
       "True"
      ]
     },
     "execution_count": 36,
     "metadata": {},
     "output_type": "execute_result"
    }
   ],
   "source": [
    "ls_oks15_test[0].has_lazy_data()"
   ]
  },
  {
   "cell_type": "markdown",
   "metadata": {},
   "source": [
    "# Contourplot of the first timeslice in first cube of the loaded CubeList"
   ]
  },
  {
   "cell_type": "code",
   "execution_count": 40,
   "metadata": {},
   "outputs": [
    {
     "data": {
      "image/png": "[encoded data removed]",
      "text/plain": [
       "<matplotlib.figure.Figure at 0x7f161812bd30>"
      ]
     },
     "metadata": {},
     "output_type": "display_data"
    }
   ],
   "source": [
    "qp.contourf(ls_oks15_test[0][0,:,:])\n",
    "ax = plt.gca()\n",
    "ax.gridlines()\n",
    "qp.show()"
   ]
  },
  {
   "cell_type": "markdown",
   "metadata": {},
   "source": [
    "# Average over space and time\n",
    "- Add a new coordinate month\n",
    "- Add a new coordinate year\n",
    "- Spatial averaging\n",
    "- Monthly averaging\n",
    "- Unify time coordinate after calculations (different calendars)"
   ]
  },
  {
   "cell_type": "code",
   "execution_count": 39,
   "metadata": {},
   "outputs": [
    {
     "name": "stderr",
     "output_type": "stream",
     "text": [
      "/home/gseyerl/miniconda3/envs/p3/lib/python3.6/site-packages/iris/coords.py:1191: UserWarning: Collapsing a non-contiguous coordinate. Metadata may not be fully descriptive for 'projection_y_coordinate'.\n",
      "  warnings.warn(msg.format(self.name()))\n",
      "/home/gseyerl/miniconda3/envs/p3/lib/python3.6/site-packages/iris/coords.py:1191: UserWarning: Collapsing a non-contiguous coordinate. Metadata may not be fully descriptive for 'projection_x_coordinate'.\n",
      "  warnings.warn(msg.format(self.name()))\n",
      "/home/gseyerl/miniconda3/envs/p3/lib/python3.6/site-packages/iris/coords.py:1187: UserWarning: Collapsing a multi-dimensional coordinate. Metadata may not be fully descriptive for 'latitude'.\n",
      "  warnings.warn(msg.format(self.name()))\n",
      "/home/gseyerl/miniconda3/envs/p3/lib/python3.6/site-packages/iris/coords.py:1187: UserWarning: Collapsing a multi-dimensional coordinate. Metadata may not be fully descriptive for 'longitude'.\n",
      "  warnings.warn(msg.format(self.name()))\n"
     ]
    }
   ],
   "source": [
    "ls_oks15_monthly = iris.cube.CubeList()\n",
    "ls_oks15_monthly_anom = iris.cube.CubeList()\n",
    "\n",
    "for idx, oks15_test in enumerate(ls_oks15_test):\n",
    "    iris.coord_categorisation.add_month(oks15_test, 'time', name='month')\n",
    "    iris.coord_categorisation.add_year(oks15_test, 'time', name='year')\n",
    "    oks15_test = oks15_test.collapsed(['projection_y_coordinate','projection_x_coordinate'],iris.analysis.MEAN)\n",
    "    ls_oks15_monthly.append(oks15_test.aggregated_by(['month'],iris.analysis.MEAN))\n",
    "    ls_oks15_monthly_anom.append(\n",
    "        oks15_test.aggregated_by(['month','year'],iris.analysis.MEAN)\n",
    "    )\n",
    "    \n",
    "    if idx != 0:\n",
    "        ls_oks15_monthly[idx].remove_coord('time')\n",
    "        ls_oks15_monthly[idx].add_dim_coord(ls_oks15_monthly[0].coord('time'), 0)\n",
    "        \n",
    "        ls_oks15_monthly_anom[idx].remove_coord('time')\n",
    "        ls_oks15_monthly_anom[idx].add_dim_coord(ls_oks15_monthly_anom[0].coord('time'), 0)"
   ]
  },
  {
   "cell_type": "markdown",
   "metadata": {},
   "source": [
    "Unify attributes and dimensions for all cubes in CubeList. Merge the cubeList to create a new cube with dimension realization."
   ]
  },
  {
   "cell_type": "code",
   "execution_count": 41,
   "metadata": {},
   "outputs": [
    {
     "name": "stdout",
     "output_type": "stream",
     "text": [
      "air_temperature / (Celsius)         (realization: 13; time: 12)\n"
     ]
    }
   ],
   "source": [
    "for oks15_monthly in ls_oks15_monthly:\n",
    "    try:\n",
    "        oks15_monthly.coord('month').attributes = {}\n",
    "        oks15_monthly.coord('year').attributes = {}\n",
    "        oks15_monthly.remove_coord('height')\n",
    "    except:\n",
    "        pass\n",
    "    \n",
    "equalise_attributes(ls_oks15_monthly)\n",
    "ls_oks15_monthly = ls_oks15_monthly.merge_cube()\n",
    "print(ls_oks15_monthly.summary(True))"
   ]
  },
  {
   "cell_type": "code",
   "execution_count": 42,
   "metadata": {},
   "outputs": [
    {
     "name": "stdout",
     "output_type": "stream",
     "text": [
      "air_temperature / (Celsius)         (realization: 13; time: 360)\n"
     ]
    }
   ],
   "source": [
    "for oks15_test in ls_oks15_monthly_anom:\n",
    "    try:\n",
    "        oks15_test.coord('month').attributes = {}\n",
    "        oks15_test.coord('year').attributes = {}\n",
    "        oks15_test.remove_coord('height')\n",
    "    except:\n",
    "        pass\n",
    "\n",
    "equalise_attributes(ls_oks15_monthly_anom)\n",
    "ls_oks15_monthly_anom = ls_oks15_monthly_anom.merge_cube()\n",
    "print(ls_oks15_monthly_anom.summary(True))"
   ]
  },
  {
   "cell_type": "markdown",
   "metadata": {},
   "source": [
    "Remove monthly mean from timeseries to calculate anomalies"
   ]
  },
  {
   "cell_type": "code",
   "execution_count": 43,
   "metadata": {},
   "outputs": [],
   "source": [
    "tile_dimensions = (1, int(ls_oks15_monthly_anom.coord('time').shape[0]/ls_oks15_monthly_anom.coord('time').shape[0]))\n",
    "ls_oks15_monthly_anom.data = ls_oks15_monthly_anom.data - np.tile(ls_oks15_monthly.data, (1,30))"
   ]
  },
  {
   "cell_type": "markdown",
   "metadata": {},
   "source": [
    "Slice over realization dimension and plot monthly means for all ensemble members."
   ]
  },
  {
   "cell_type": "code",
   "execution_count": 44,
   "metadata": {},
   "outputs": [
    {
     "data": {
      "image/png": "[encoded data removed]",
      "text/plain": [
       "<matplotlib.figure.Figure at 0x7f16094fb2b0>"
      ]
     },
     "metadata": {},
     "output_type": "display_data"
    }
   ],
   "source": [
    "for oks15_monthly in ls_oks15_monthly.slices_over('realization'):\n",
    "    qp.plot(oks15_monthly)\n",
    "qp.show()"
   ]
  },
  {
   "cell_type": "markdown",
   "metadata": {},
   "source": [
    "Slice over realization dimension and plot monthly anomalies for all ensemble members."
   ]
  },
  {
   "cell_type": "code",
   "execution_count": 45,
   "metadata": {},
   "outputs": [
    {
     "data": {
      "image/png": "[encoded data removed]",
      "text/plain": [
       "<matplotlib.figure.Figure at 0x7f1608b246a0>"
      ]
     },
     "metadata": {},
     "output_type": "display_data"
    }
   ],
   "source": [
    "for oks15_monthly_anom in ls_oks15_monthly_anom.slices_over('realization'):\n",
    "    qp.plot(oks15_monthly_anom)\n",
    "qp.show()"
   ]
  },
  {
   "cell_type": "markdown",
   "metadata": {},
   "source": [
    "Save anomalies as cf conformal netcdf file."
   ]
  },
  {
   "cell_type": "code",
   "execution_count": 46,
   "metadata": {},
   "outputs": [],
   "source": [
    "iris.save(oks15_monthly_anom,'oks15_monthly_anom_near_future.nc')"
   ]
  },
  {
   "cell_type": "markdown",
   "metadata": {},
   "source": [
    "# Blend with pandas\n",
    "\n",
    "Mix Iris with pandas to get better time analysations"
   ]
  },
  {
   "cell_type": "markdown",
   "metadata": {},
   "source": [
    "Define helper function as_series to convert an iris cube object into a pandas data series with index as method argument. "
   ]
  },
  {
   "cell_type": "code",
   "execution_count": 47,
   "metadata": {},
   "outputs": [],
   "source": [
    "import pandas\n",
    "from iris.pandas import _as_pandas_coord\n",
    "\n",
    "def as_series(cube, index=None, copy=True, name=None):\n",
    "    data = cube.data\n",
    "    if isinstance(data, np.ma.MaskedArray):\n",
    "        if not copy:\n",
    "            raise ValueError(\"Masked arrays must always be copied.\")\n",
    "        data = data.astype('f').filled(np.nan)\n",
    "    elif copy:\n",
    "        data = data.copy()\n",
    "\n",
    "    if not index:\n",
    "        if cube.dim_coords:\n",
    "            index = _as_pandas_coord(cube.dim_coords[0])\n",
    "    else:\n",
    "        index = _as_pandas_coord(index)\n",
    "\n",
    "    series = pandas.Series(data, index, name=name)\n",
    "    if not copy:\n",
    "        _assert_shared(data, series)\n",
    "\n",
    "    return series"
   ]
  },
  {
   "cell_type": "markdown",
   "metadata": {},
   "source": [
    "Convert the monthly means of every realization to pandas series and append to a list. Concatenate the list to create a pandas DataFrame."
   ]
  },
  {
   "cell_type": "code",
   "execution_count": 48,
   "metadata": {},
   "outputs": [],
   "source": [
    "ls_pd_series = list()\n",
    "for idx, oks15_monthly in enumerate(ls_oks15_monthly.slices_over('realization')):\n",
    "    ls_pd_series.append(as_series(oks15_monthly, ls_oks15_monthly.coord('month'), name=ls_realization_name[idx]))\n",
    "df_pd_monthly_mean = pd.concat(ls_pd_series, axis=1)"
   ]
  },
  {
   "cell_type": "markdown",
   "metadata": {},
   "source": [
    "Take a look in the DataFrame."
   ]
  },
  {
   "cell_type": "code",
   "execution_count": 49,
   "metadata": {},
   "outputs": [
    {
     "data": {
      "text/html": [
       "<div>\n",
       "<style scoped>\n",
       "    .dataframe tbody tr th:only-of-type {\n",
       "        vertical-align: middle;\n",
       "    }\n",
       "\n",
       "    .dataframe tbody tr th {\n",
       "        vertical-align: top;\n",
       "    }\n",
       "\n",
       "    .dataframe thead th {\n",
       "        text-align: right;\n",
       "    }\n",
       "</style>\n",
       "<table border=\"1\" class=\"dataframe\">\n",
       "  <thead>\n",
       "    <tr style=\"text-align: right;\">\n",
       "      <th></th>\n",
       "      <th>cnrm-cerfacs-cnrm-cm5_rcp45_r1i1p1_clmcom-cclm4-8-17</th>\n",
       "      <th>cnrm-cerfacs-cnrm-cm5_rcp45_r1i1p1_cnrm-aladin53</th>\n",
       "      <th>cnrm-cerfacs-cnrm-cm5_rcp45_r1i1p1_smhi-rca4</th>\n",
       "      <th>ichec-ec-earth_rcp45_r12i1p1_smhi-rca4</th>\n",
       "      <th>ichec-ec-earth_rcp45_r1i1p1_knmi-racmo22e</th>\n",
       "      <th>ichec-ec-earth_rcp45_r12i1p1_clmcom-cclm4-8-17</th>\n",
       "      <th>ichec-ec-earth_rcp45_r3i1p1_dmi-hirham5</th>\n",
       "      <th>ipsl-ipsl-cm5a-mr_rcp45_r1i1p1_ipsl-ineris-wrf331f</th>\n",
       "      <th>ipsl-ipsl-cm5a-mr_rcp45_r1i1p1_smhi-rca4</th>\n",
       "      <th>mohc-hadgem2-es_rcp45_r1i1p1_smhi-rca4</th>\n",
       "      <th>mohc-hadgem2-es_rcp45_r1i1p1_clmcom-cclm4-8-17</th>\n",
       "      <th>mpi-m-mpi-esm-lr_rcp45_r1i1p1_clmcom-cclm4-8-17</th>\n",
       "      <th>mpi-m-mpi-esm-lr_rcp45_r1i1p1_smhi-rca4</th>\n",
       "    </tr>\n",
       "  </thead>\n",
       "  <tbody>\n",
       "    <tr>\n",
       "      <th>Jan</th>\n",
       "      <td>-3.860380</td>\n",
       "      <td>-3.398478</td>\n",
       "      <td>-2.877711</td>\n",
       "      <td>-2.812445</td>\n",
       "      <td>-1.293779</td>\n",
       "      <td>-2.932919</td>\n",
       "      <td>-3.490816</td>\n",
       "      <td>-3.032093</td>\n",
       "      <td>-2.757498</td>\n",
       "      <td>-2.603512</td>\n",
       "      <td>-2.875542</td>\n",
       "      <td>-2.852913</td>\n",
       "      <td>-2.636348</td>\n",
       "    </tr>\n",
       "    <tr>\n",
       "      <th>Feb</th>\n",
       "      <td>-2.420815</td>\n",
       "      <td>-2.249613</td>\n",
       "      <td>-1.062037</td>\n",
       "      <td>-1.644295</td>\n",
       "      <td>-0.765950</td>\n",
       "      <td>-0.428679</td>\n",
       "      <td>-2.203719</td>\n",
       "      <td>-0.328443</td>\n",
       "      <td>-1.865394</td>\n",
       "      <td>-1.500793</td>\n",
       "      <td>-2.103448</td>\n",
       "      <td>-1.938989</td>\n",
       "      <td>-2.121313</td>\n",
       "    </tr>\n",
       "    <tr>\n",
       "      <th>Mar</th>\n",
       "      <td>1.864914</td>\n",
       "      <td>1.499980</td>\n",
       "      <td>1.883545</td>\n",
       "      <td>1.900664</td>\n",
       "      <td>2.646040</td>\n",
       "      <td>2.350669</td>\n",
       "      <td>1.977799</td>\n",
       "      <td>1.628459</td>\n",
       "      <td>1.521308</td>\n",
       "      <td>1.714269</td>\n",
       "      <td>0.987640</td>\n",
       "      <td>1.873903</td>\n",
       "      <td>2.208462</td>\n",
       "    </tr>\n",
       "    <tr>\n",
       "      <th>Apr</th>\n",
       "      <td>5.038952</td>\n",
       "      <td>5.261393</td>\n",
       "      <td>6.364003</td>\n",
       "      <td>4.908045</td>\n",
       "      <td>5.953920</td>\n",
       "      <td>5.075903</td>\n",
       "      <td>5.582626</td>\n",
       "      <td>5.334650</td>\n",
       "      <td>4.875025</td>\n",
       "      <td>4.890641</td>\n",
       "      <td>4.828337</td>\n",
       "      <td>5.643496</td>\n",
       "      <td>5.113264</td>\n",
       "    </tr>\n",
       "    <tr>\n",
       "      <th>May</th>\n",
       "      <td>9.633205</td>\n",
       "      <td>9.795010</td>\n",
       "      <td>10.897007</td>\n",
       "      <td>9.657640</td>\n",
       "      <td>11.418488</td>\n",
       "      <td>10.409676</td>\n",
       "      <td>10.247383</td>\n",
       "      <td>10.225492</td>\n",
       "      <td>10.586367</td>\n",
       "      <td>10.335997</td>\n",
       "      <td>10.045798</td>\n",
       "      <td>10.255160</td>\n",
       "      <td>9.782852</td>\n",
       "    </tr>\n",
       "    <tr>\n",
       "      <th>Jun</th>\n",
       "      <td>12.664891</td>\n",
       "      <td>13.041458</td>\n",
       "      <td>14.526628</td>\n",
       "      <td>13.326308</td>\n",
       "      <td>16.072784</td>\n",
       "      <td>14.897416</td>\n",
       "      <td>13.882915</td>\n",
       "      <td>13.089946</td>\n",
       "      <td>13.799806</td>\n",
       "      <td>14.623446</td>\n",
       "      <td>13.941020</td>\n",
       "      <td>14.736762</td>\n",
       "      <td>13.608137</td>\n",
       "    </tr>\n",
       "    <tr>\n",
       "      <th>Jul</th>\n",
       "      <td>15.319349</td>\n",
       "      <td>15.333672</td>\n",
       "      <td>16.752274</td>\n",
       "      <td>15.680463</td>\n",
       "      <td>17.846485</td>\n",
       "      <td>17.333803</td>\n",
       "      <td>15.844624</td>\n",
       "      <td>15.244413</td>\n",
       "      <td>15.309258</td>\n",
       "      <td>15.801806</td>\n",
       "      <td>15.255390</td>\n",
       "      <td>15.776288</td>\n",
       "      <td>16.700138</td>\n",
       "    </tr>\n",
       "    <tr>\n",
       "      <th>Aug</th>\n",
       "      <td>15.253328</td>\n",
       "      <td>15.467576</td>\n",
       "      <td>16.810829</td>\n",
       "      <td>15.590221</td>\n",
       "      <td>16.976732</td>\n",
       "      <td>17.321596</td>\n",
       "      <td>15.493800</td>\n",
       "      <td>15.424015</td>\n",
       "      <td>15.380912</td>\n",
       "      <td>15.596980</td>\n",
       "      <td>15.717859</td>\n",
       "      <td>15.095869</td>\n",
       "      <td>16.009293</td>\n",
       "    </tr>\n",
       "    <tr>\n",
       "      <th>Sep</th>\n",
       "      <td>11.626060</td>\n",
       "      <td>11.889009</td>\n",
       "      <td>13.842335</td>\n",
       "      <td>11.935122</td>\n",
       "      <td>12.985099</td>\n",
       "      <td>13.638727</td>\n",
       "      <td>11.907749</td>\n",
       "      <td>12.441341</td>\n",
       "      <td>13.578104</td>\n",
       "      <td>11.739930</td>\n",
       "      <td>12.465351</td>\n",
       "      <td>12.804269</td>\n",
       "      <td>12.489462</td>\n",
       "    </tr>\n",
       "    <tr>\n",
       "      <th>Oct</th>\n",
       "      <td>7.724253</td>\n",
       "      <td>7.911700</td>\n",
       "      <td>9.669538</td>\n",
       "      <td>8.070592</td>\n",
       "      <td>9.152755</td>\n",
       "      <td>8.453490</td>\n",
       "      <td>7.554747</td>\n",
       "      <td>8.565223</td>\n",
       "      <td>8.436643</td>\n",
       "      <td>7.446024</td>\n",
       "      <td>7.623146</td>\n",
       "      <td>8.165547</td>\n",
       "      <td>9.090595</td>\n",
       "    </tr>\n",
       "    <tr>\n",
       "      <th>Nov</th>\n",
       "      <td>1.734452</td>\n",
       "      <td>1.436445</td>\n",
       "      <td>1.719881</td>\n",
       "      <td>1.999777</td>\n",
       "      <td>2.146831</td>\n",
       "      <td>2.480768</td>\n",
       "      <td>1.188215</td>\n",
       "      <td>2.661973</td>\n",
       "      <td>1.423941</td>\n",
       "      <td>2.287038</td>\n",
       "      <td>1.252730</td>\n",
       "      <td>3.179353</td>\n",
       "      <td>1.713265</td>\n",
       "    </tr>\n",
       "    <tr>\n",
       "      <th>Dec</th>\n",
       "      <td>-2.403395</td>\n",
       "      <td>-2.023965</td>\n",
       "      <td>-0.870340</td>\n",
       "      <td>-1.005292</td>\n",
       "      <td>-0.398565</td>\n",
       "      <td>-1.563089</td>\n",
       "      <td>-2.381773</td>\n",
       "      <td>-2.020415</td>\n",
       "      <td>-1.528888</td>\n",
       "      <td>-1.761756</td>\n",
       "      <td>-2.273696</td>\n",
       "      <td>-1.908733</td>\n",
       "      <td>-0.996978</td>\n",
       "    </tr>\n",
       "  </tbody>\n",
       "</table>\n",
       "</div>"
      ],
      "text/plain": [
       "     cnrm-cerfacs-cnrm-cm5_rcp45_r1i1p1_clmcom-cclm4-8-17  \\\n",
       "Jan                                          -3.860380      \n",
       "Feb                                          -2.420815      \n",
       "Mar                                           1.864914      \n",
       "Apr                                           5.038952      \n",
       "May                                           9.633205      \n",
       "Jun                                          12.664891      \n",
       "Jul                                          15.319349      \n",
       "Aug                                          15.253328      \n",
       "Sep                                          11.626060      \n",
       "Oct                                           7.724253      \n",
       "Nov                                           1.734452      \n",
       "Dec                                          -2.403395      \n",
       "\n",
       "     cnrm-cerfacs-cnrm-cm5_rcp45_r1i1p1_cnrm-aladin53  \\\n",
       "Jan                                         -3.398478   \n",
       "Feb                                         -2.249613   \n",
       "Mar                                          1.499980   \n",
       "Apr                                          5.261393   \n",
       "May                                          9.795010   \n",
       "Jun                                         13.041458   \n",
       "Jul                                         15.333672   \n",
       "Aug                                         15.467576   \n",
       "Sep                                         11.889009   \n",
       "Oct                                          7.911700   \n",
       "Nov                                          1.436445   \n",
       "Dec                                         -2.023965   \n",
       "\n",
       "     cnrm-cerfacs-cnrm-cm5_rcp45_r1i1p1_smhi-rca4  \\\n",
       "Jan                                     -2.877711   \n",
       "Feb                                     -1.062037   \n",
       "Mar                                      1.883545   \n",
       "Apr                                      6.364003   \n",
       "May                                     10.897007   \n",
       "Jun                                     14.526628   \n",
       "Jul                                     16.752274   \n",
       "Aug                                     16.810829   \n",
       "Sep                                     13.842335   \n",
       "Oct                                      9.669538   \n",
       "Nov                                      1.719881   \n",
       "Dec                                     -0.870340   \n",
       "\n",
       "     ichec-ec-earth_rcp45_r12i1p1_smhi-rca4  \\\n",
       "Jan                               -2.812445   \n",
       "Feb                               -1.644295   \n",
       "Mar                                1.900664   \n",
       "Apr                                4.908045   \n",
       "May                                9.657640   \n",
       "Jun                               13.326308   \n",
       "Jul                               15.680463   \n",
       "Aug                               15.590221   \n",
       "Sep                               11.935122   \n",
       "Oct                                8.070592   \n",
       "Nov                                1.999777   \n",
       "Dec                               -1.005292   \n",
       "\n",
       "     ichec-ec-earth_rcp45_r1i1p1_knmi-racmo22e  \\\n",
       "Jan                                  -1.293779   \n",
       "Feb                                  -0.765950   \n",
       "Mar                                   2.646040   \n",
       "Apr                                   5.953920   \n",
       "May                                  11.418488   \n",
       "Jun                                  16.072784   \n",
       "Jul                                  17.846485   \n",
       "Aug                                  16.976732   \n",
       "Sep                                  12.985099   \n",
       "Oct                                   9.152755   \n",
       "Nov                                   2.146831   \n",
       "Dec                                  -0.398565   \n",
       "\n",
       "     ichec-ec-earth_rcp45_r12i1p1_clmcom-cclm4-8-17  \\\n",
       "Jan                                       -2.932919   \n",
       "Feb                                       -0.428679   \n",
       "Mar                                        2.350669   \n",
       "Apr                                        5.075903   \n",
       "May                                       10.409676   \n",
       "Jun                                       14.897416   \n",
       "Jul                                       17.333803   \n",
       "Aug                                       17.321596   \n",
       "Sep                                       13.638727   \n",
       "Oct                                        8.453490   \n",
       "Nov                                        2.480768   \n",
       "Dec                                       -1.563089   \n",
       "\n",
       "     ichec-ec-earth_rcp45_r3i1p1_dmi-hirham5  \\\n",
       "Jan                                -3.490816   \n",
       "Feb                                -2.203719   \n",
       "Mar                                 1.977799   \n",
       "Apr                                 5.582626   \n",
       "May                                10.247383   \n",
       "Jun                                13.882915   \n",
       "Jul                                15.844624   \n",
       "Aug                                15.493800   \n",
       "Sep                                11.907749   \n",
       "Oct                                 7.554747   \n",
       "Nov                                 1.188215   \n",
       "Dec                                -2.381773   \n",
       "\n",
       "     ipsl-ipsl-cm5a-mr_rcp45_r1i1p1_ipsl-ineris-wrf331f  \\\n",
       "Jan                                          -3.032093    \n",
       "Feb                                          -0.328443    \n",
       "Mar                                           1.628459    \n",
       "Apr                                           5.334650    \n",
       "May                                          10.225492    \n",
       "Jun                                          13.089946    \n",
       "Jul                                          15.244413    \n",
       "Aug                                          15.424015    \n",
       "Sep                                          12.441341    \n",
       "Oct                                           8.565223    \n",
       "Nov                                           2.661973    \n",
       "Dec                                          -2.020415    \n",
       "\n",
       "     ipsl-ipsl-cm5a-mr_rcp45_r1i1p1_smhi-rca4  \\\n",
       "Jan                                 -2.757498   \n",
       "Feb                                 -1.865394   \n",
       "Mar                                  1.521308   \n",
       "Apr                                  4.875025   \n",
       "May                                 10.586367   \n",
       "Jun                                 13.799806   \n",
       "Jul                                 15.309258   \n",
       "Aug                                 15.380912   \n",
       "Sep                                 13.578104   \n",
       "Oct                                  8.436643   \n",
       "Nov                                  1.423941   \n",
       "Dec                                 -1.528888   \n",
       "\n",
       "     mohc-hadgem2-es_rcp45_r1i1p1_smhi-rca4  \\\n",
       "Jan                               -2.603512   \n",
       "Feb                               -1.500793   \n",
       "Mar                                1.714269   \n",
       "Apr                                4.890641   \n",
       "May                               10.335997   \n",
       "Jun                               14.623446   \n",
       "Jul                               15.801806   \n",
       "Aug                               15.596980   \n",
       "Sep                               11.739930   \n",
       "Oct                                7.446024   \n",
       "Nov                                2.287038   \n",
       "Dec                               -1.761756   \n",
       "\n",
       "     mohc-hadgem2-es_rcp45_r1i1p1_clmcom-cclm4-8-17  \\\n",
       "Jan                                       -2.875542   \n",
       "Feb                                       -2.103448   \n",
       "Mar                                        0.987640   \n",
       "Apr                                        4.828337   \n",
       "May                                       10.045798   \n",
       "Jun                                       13.941020   \n",
       "Jul                                       15.255390   \n",
       "Aug                                       15.717859   \n",
       "Sep                                       12.465351   \n",
       "Oct                                        7.623146   \n",
       "Nov                                        1.252730   \n",
       "Dec                                       -2.273696   \n",
       "\n",
       "     mpi-m-mpi-esm-lr_rcp45_r1i1p1_clmcom-cclm4-8-17  \\\n",
       "Jan                                        -2.852913   \n",
       "Feb                                        -1.938989   \n",
       "Mar                                         1.873903   \n",
       "Apr                                         5.643496   \n",
       "May                                        10.255160   \n",
       "Jun                                        14.736762   \n",
       "Jul                                        15.776288   \n",
       "Aug                                        15.095869   \n",
       "Sep                                        12.804269   \n",
       "Oct                                         8.165547   \n",
       "Nov                                         3.179353   \n",
       "Dec                                        -1.908733   \n",
       "\n",
       "     mpi-m-mpi-esm-lr_rcp45_r1i1p1_smhi-rca4  \n",
       "Jan                                -2.636348  \n",
       "Feb                                -2.121313  \n",
       "Mar                                 2.208462  \n",
       "Apr                                 5.113264  \n",
       "May                                 9.782852  \n",
       "Jun                                13.608137  \n",
       "Jul                                16.700138  \n",
       "Aug                                16.009293  \n",
       "Sep                                12.489462  \n",
       "Oct                                 9.090595  \n",
       "Nov                                 1.713265  \n",
       "Dec                                -0.996978  "
      ]
     },
     "execution_count": 49,
     "metadata": {},
     "output_type": "execute_result"
    }
   ],
   "source": [
    "df_pd_monthly_mean"
   ]
  },
  {
   "cell_type": "markdown",
   "metadata": {},
   "source": [
    "Make a boxplot."
   ]
  },
  {
   "cell_type": "code",
   "execution_count": 50,
   "metadata": {},
   "outputs": [
    {
     "data": {
      "text/plain": [
       "<matplotlib.axes._subplots.AxesSubplot at 0x7f1618014908>"
      ]
     },
     "execution_count": 50,
     "metadata": {},
     "output_type": "execute_result"
    },
    {
     "data": {
      "image/png": "[encoded data removed]",
      "text/plain": [
       "<matplotlib.figure.Figure at 0x7f1608d72390>"
      ]
     },
     "metadata": {},
     "output_type": "display_data"
    }
   ],
   "source": [
    "df_pd_monthly_mean.transpose().boxplot(figsize=(15, 8), fontsize=20, grid=True)"
   ]
  },
  {
   "cell_type": "markdown",
   "metadata": {},
   "source": [
    "Save monthly means of ensemble members as csv."
   ]
  },
  {
   "cell_type": "code",
   "execution_count": null,
   "metadata": {},
   "outputs": [],
   "source": [
    "df_pd_monthly_mean.to_csv('oks15_monthly_mean_near_future.csv', sep=';')"
   ]
  }
 ],
 "metadata": {
  "kernelspec": {
   "display_name": "Python 2",
   "language": "python",
   "name": "python2"
  },
  "language_info": {
   "codemirror_mode": {
    "name": "ipython",
    "version": 2
   },
   "file_extension": ".py",
   "mimetype": "text/x-python",
   "name": "python",
   "nbconvert_exporter": "python",
   "pygments_lexer": "ipython2",
   "version": "2.7.13"
  }
 },
 "nbformat": 4,
 "nbformat_minor": 2
}
